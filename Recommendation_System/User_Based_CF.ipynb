{
 "cells": [
  {
   "cell_type": "code",
   "execution_count": 2,
   "id": "12159dec",
   "metadata": {},
   "outputs": [],
   "source": [
    "# Imports\n",
    "import pandas as pd\n",
    "import numpy as np\n",
    "import operator\n",
    "import math\n",
    "from sklearn.metrics import mean_squared_error\n",
    "from sklearn.metrics.pairwise import cosine_similarity\n",
    "from statistics import mean\n",
    "from tqdm import tqdm"
   ]
  },
  {
   "cell_type": "code",
   "execution_count": 3,
   "id": "9b1810c8",
   "metadata": {},
   "outputs": [],
   "source": [
    "# Importing the dataset\n",
    "df_movies = pd.read_csv('data/movies.csv')\n",
    "df_ratings = pd.read_csv('data/ratings.csv')\n",
    "del df_ratings['timestamp']"
   ]
  },
  {
   "cell_type": "code",
   "execution_count": 4,
   "id": "67ddda09",
   "metadata": {},
   "outputs": [
    {
     "data": {
      "text/html": [
       "<div>\n",
       "<style scoped>\n",
       "    .dataframe tbody tr th:only-of-type {\n",
       "        vertical-align: middle;\n",
       "    }\n",
       "\n",
       "    .dataframe tbody tr th {\n",
       "        vertical-align: top;\n",
       "    }\n",
       "\n",
       "    .dataframe thead th {\n",
       "        text-align: right;\n",
       "    }\n",
       "</style>\n",
       "<table border=\"1\" class=\"dataframe\">\n",
       "  <thead>\n",
       "    <tr style=\"text-align: right;\">\n",
       "      <th></th>\n",
       "      <th>movieId</th>\n",
       "      <th>title</th>\n",
       "      <th>genres</th>\n",
       "      <th>movie_year</th>\n",
       "    </tr>\n",
       "  </thead>\n",
       "  <tbody>\n",
       "    <tr>\n",
       "      <th>0</th>\n",
       "      <td>1</td>\n",
       "      <td>Toy Story</td>\n",
       "      <td>Adventure|Animation|Children|Comedy|Fantasy</td>\n",
       "      <td>1995</td>\n",
       "    </tr>\n",
       "    <tr>\n",
       "      <th>1</th>\n",
       "      <td>2</td>\n",
       "      <td>Jumanji</td>\n",
       "      <td>Adventure|Children|Fantasy</td>\n",
       "      <td>1995</td>\n",
       "    </tr>\n",
       "  </tbody>\n",
       "</table>\n",
       "</div>"
      ],
      "text/plain": [
       "   movieId       title                                       genres movie_year\n",
       "0        1  Toy Story   Adventure|Animation|Children|Comedy|Fantasy       1995\n",
       "1        2    Jumanji                    Adventure|Children|Fantasy       1995"
      ]
     },
     "execution_count": 4,
     "metadata": {},
     "output_type": "execute_result"
    }
   ],
   "source": [
    "df_movies['movie_year'] = df_movies['title'].str.extract(\"\\((.*)\\)\")\n",
    "df_movies['title'] = df_movies['title'].str.replace(\"\\((.*)\\)\", \"\", regex=True)\n",
    "df_movies.head(2)"
   ]
  },
  {
   "cell_type": "code",
   "execution_count": 5,
   "id": "5df3c971",
   "metadata": {},
   "outputs": [],
   "source": [
    "# Create ratings matrix\n",
    "ratings_matrix = df_ratings.pivot(index='userId', columns='movieId', values='rating').fillna(0)\n",
    "# Create the user similarity matrix [Cosine Similarity]\n",
    "user_sim_matrix = pd.DataFrame(cosine_similarity(ratings_matrix), index=ratings_matrix.index, columns=ratings_matrix.index)\n"
   ]
  },
  {
   "cell_type": "markdown",
   "id": "995e33a1",
   "metadata": {},
   "source": [
    "Above creates a matrix for all the ratings in the dataset. Another matrix is then computed to understand how similar each user is to other users."
   ]
  },
  {
   "cell_type": "code",
   "execution_count": 6,
   "id": "db44d9d5",
   "metadata": {},
   "outputs": [],
   "source": [
    "def create_all_recommendations(target_user, N=100):\n",
    "    # Get the top N most similar users [index, similarity] (index is userId)\n",
    "    # Below excludes the first user and gets N sim users\n",
    "    most_similar_users = user_sim_matrix.loc[target_user].sort_values(ascending=False)[1:(N+1)]\n",
    "    # Get the sub matrix of all the top N similar users\n",
    "    sub_user_matrix = ratings_matrix.loc[most_similar_users.index]\n",
    "    # Converts Matrix to standard table\n",
    "    sub_df = sub_user_matrix.stack().reset_index().rename(columns={'level_0':'userId','level_1':'movieId', 0:'rating'})\n",
    "    # Removes ratings that are NaN\n",
    "    sub_df = sub_df[sub_df['rating'] != 0]\n",
    "    # Merges ratings with the similarity score\n",
    "    sub_df = sub_df.merge(most_similar_users, left_on='userId', right_on='userId').rename(columns={target_user:'similarity'})\n",
    "    # Calculate weighted rating\n",
    "    sub_df['weighted_rating'] = sub_df['similarity'] * sub_df['rating']\n",
    "    # Calculate sum of weights for each movie \n",
    "    sub_df = sub_df.groupby('movieId', as_index = False).sum()[['movieId', 'similarity','weighted_rating']]\n",
    "    # From the sum, calculate the final weighted rating score for each movie for target\n",
    "    sub_df['prediction_userCF'] = sub_df['weighted_rating'] / sub_df['similarity']\n",
    "    # Sort based on the predicted rating\n",
    "    return sub_df[['movieId', 'prediction_userCF']]"
   ]
  },
  {
   "cell_type": "markdown",
   "id": "a335a332",
   "metadata": {},
   "source": [
    "Above method creates the recommendations for a single user.\n",
    "\n",
    "Instead of the mean rating of similar users, a weighted rating is used.\n",
    "\n",
    "$$R_U = \\frac{(\\sum \\limits _{u=1} ^{n} S_u * R_u)}{(\\sum \\limits _{u=1} ^{n} S_u)}$$\n",
    "where $S_u$ is the user similarity and $R_u$ is the rating\n",
    "\n",
    "Typically, the average rating is computed for each score the target user may put. However, the weighted average is used in this case, where each rating is multiplied by the similarity score.\n",
    "https://realpython.com/build-recommendation-engine-collaborative-filtering/"
   ]
  },
  {
   "cell_type": "code",
   "execution_count": 7,
   "id": "7d598926",
   "metadata": {},
   "outputs": [],
   "source": [
    "def get_recommendations(target_user, K=30, random=False):\n",
    "    # To get the recommened movies of each user\n",
    "    recommend_items = create_all_recommendations(target_user).sort_values(by=['prediction_userCF'], ascending=False)\n",
    "    recommend_items = recommend_items.merge(df_movies[['movieId','title']], left_on='movieId', right_on='movieId')\n",
    "    if (random):\n",
    "        # Selects N samples from the top 3 * N movies\n",
    "        return recommend_items.head(3*K).sample(K)\n",
    "    else:\n",
    "        # Selects the top N movies\n",
    "        return recommend_items.head(K)"
   ]
  },
  {
   "cell_type": "code",
   "execution_count": 12,
   "id": "989d1213",
   "metadata": {},
   "outputs": [
    {
     "data": {
      "text/html": [
       "<div>\n",
       "<style scoped>\n",
       "    .dataframe tbody tr th:only-of-type {\n",
       "        vertical-align: middle;\n",
       "    }\n",
       "\n",
       "    .dataframe tbody tr th {\n",
       "        vertical-align: top;\n",
       "    }\n",
       "\n",
       "    .dataframe thead th {\n",
       "        text-align: right;\n",
       "    }\n",
       "</style>\n",
       "<table border=\"1\" class=\"dataframe\">\n",
       "  <thead>\n",
       "    <tr style=\"text-align: right;\">\n",
       "      <th></th>\n",
       "      <th>movieId</th>\n",
       "      <th>prediction_userCF</th>\n",
       "      <th>title</th>\n",
       "    </tr>\n",
       "  </thead>\n",
       "  <tbody>\n",
       "    <tr>\n",
       "      <th>18</th>\n",
       "      <td>4454</td>\n",
       "      <td>5.0</td>\n",
       "      <td>More</td>\n",
       "    </tr>\n",
       "    <tr>\n",
       "      <th>29</th>\n",
       "      <td>5485</td>\n",
       "      <td>5.0</td>\n",
       "      <td>Tadpole</td>\n",
       "    </tr>\n",
       "    <tr>\n",
       "      <th>26</th>\n",
       "      <td>5537</td>\n",
       "      <td>5.0</td>\n",
       "      <td>Satin Rouge</td>\n",
       "    </tr>\n",
       "    <tr>\n",
       "      <th>15</th>\n",
       "      <td>8580</td>\n",
       "      <td>5.0</td>\n",
       "      <td>Into the Woods</td>\n",
       "    </tr>\n",
       "    <tr>\n",
       "      <th>24</th>\n",
       "      <td>99</td>\n",
       "      <td>5.0</td>\n",
       "      <td>Heidi Fleiss: Hollywood Madam</td>\n",
       "    </tr>\n",
       "    <tr>\n",
       "      <th>21</th>\n",
       "      <td>1699</td>\n",
       "      <td>5.0</td>\n",
       "      <td>Butcher Boy, The</td>\n",
       "    </tr>\n",
       "    <tr>\n",
       "      <th>28</th>\n",
       "      <td>1809</td>\n",
       "      <td>5.0</td>\n",
       "      <td>Fireworks</td>\n",
       "    </tr>\n",
       "    <tr>\n",
       "      <th>20</th>\n",
       "      <td>1310</td>\n",
       "      <td>5.0</td>\n",
       "      <td>Hype!</td>\n",
       "    </tr>\n",
       "    <tr>\n",
       "      <th>27</th>\n",
       "      <td>2972</td>\n",
       "      <td>5.0</td>\n",
       "      <td>Red Sorghum</td>\n",
       "    </tr>\n",
       "    <tr>\n",
       "      <th>12</th>\n",
       "      <td>65642</td>\n",
       "      <td>5.0</td>\n",
       "      <td>Timecrimes</td>\n",
       "    </tr>\n",
       "  </tbody>\n",
       "</table>\n",
       "</div>"
      ],
      "text/plain": [
       "    movieId  prediction_userCF                           title\n",
       "18     4454                5.0                           More \n",
       "29     5485                5.0                        Tadpole \n",
       "26     5537                5.0                    Satin Rouge \n",
       "15     8580                5.0                 Into the Woods \n",
       "24       99                5.0  Heidi Fleiss: Hollywood Madam \n",
       "21     1699                5.0               Butcher Boy, The \n",
       "28     1809                5.0                      Fireworks \n",
       "20     1310                5.0                          Hype! \n",
       "27     2972                5.0                    Red Sorghum \n",
       "12    65642                5.0                     Timecrimes "
      ]
     },
     "execution_count": 12,
     "metadata": {},
     "output_type": "execute_result"
    }
   ],
   "source": [
    "get_recommendations(1, K=10, random=True)"
   ]
  },
  {
   "cell_type": "markdown",
   "id": "48c816d0",
   "metadata": {},
   "source": [
    "Above method returns nicely presented table of the recommended movies. Random=True allows other movies that are highly rated to also appear within the list."
   ]
  },
  {
   "cell_type": "code",
   "execution_count": 13,
   "id": "ddfeb6f3",
   "metadata": {},
   "outputs": [],
   "source": [
    "def base_score_CF(target_user, N=100):\n",
    "    # Get dataframe of Movies already watched by user\n",
    "    movie_list = df_ratings[df_ratings['userId'] == target_user][['movieId','rating']]\n",
    "    # Get Predictions\n",
    "    predictions = create_all_recommendations(target_user, N)\n",
    "    # Create complete dataframe\n",
    "    complete_df = movie_list.merge(predictions, left_on='movieId', right_on='movieId')\n",
    "    return complete_df.sort_values(by=['prediction_userCF'], ascending=False)\n",
    "\n",
    "def MSE(target_user):\n",
    "    complete_df = base_score_CF(target_user)\n",
    "    return mean_squared_error(complete_df['rating'].tolist(), complete_df['prediction_userCF'].tolist(), squared=True)\n",
    "\n",
    "\n",
    "def average_mse():\n",
    "    scores = []\n",
    "    for x in tqdm(df_ratings['userId'].unique()):\n",
    "        scores.append(MSE(x))\n",
    "    return mean(scores)\n",
    "          "
   ]
  },
  {
   "cell_type": "markdown",
   "id": "f68ac007",
   "metadata": {},
   "source": [
    "Calculates the RMSE/MSE Score of the target user.\n",
    "\n",
    "$$ MSE = \\frac{\\sum \\limits _{i=1} ^{N} (\\hat{y_i} - y_i)^2}{N} $$"
   ]
  },
  {
   "cell_type": "code",
   "execution_count": 14,
   "id": "c38734bb",
   "metadata": {},
   "outputs": [
    {
     "name": "stderr",
     "output_type": "stream",
     "text": [
      "100%|██████████| 610/610 [01:03<00:00,  9.64it/s]\n"
     ]
    },
    {
     "data": {
      "text/plain": [
       "0.9939166312137755"
      ]
     },
     "execution_count": 14,
     "metadata": {},
     "output_type": "execute_result"
    }
   ],
   "source": [
    "average_mse()"
   ]
  }
 ],
 "metadata": {
  "kernelspec": {
   "display_name": "Python 3",
   "language": "python",
   "name": "python3"
  },
  "language_info": {
   "codemirror_mode": {
    "name": "ipython",
    "version": 3
   },
   "file_extension": ".py",
   "mimetype": "text/x-python",
   "name": "python",
   "nbconvert_exporter": "python",
   "pygments_lexer": "ipython3",
   "version": "3.8.8"
  }
 },
 "nbformat": 4,
 "nbformat_minor": 5
}
