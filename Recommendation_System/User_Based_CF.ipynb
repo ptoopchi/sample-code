{
 "cells": [
  {
   "cell_type": "code",
   "execution_count": 15,
   "id": "391356be",
   "metadata": {},
   "outputs": [],
   "source": [
    "# Imports\n",
    "import pandas as pd\n",
    "import numpy as np\n",
    "import operator"
   ]
  },
  {
   "cell_type": "code",
   "execution_count": 4,
   "id": "671a9a98",
   "metadata": {},
   "outputs": [],
   "source": [
    "# Importing the dataset\n",
    "df_movies = pd.read_csv('data/movies.csv')\n",
    "df_ratings = pd.read_csv('data/ratings.csv')"
   ]
  },
  {
   "cell_type": "code",
   "execution_count": 5,
   "id": "b1ea00e9",
   "metadata": {},
   "outputs": [
    {
     "data": {
      "text/html": [
       "<div>\n",
       "<style scoped>\n",
       "    .dataframe tbody tr th:only-of-type {\n",
       "        vertical-align: middle;\n",
       "    }\n",
       "\n",
       "    .dataframe tbody tr th {\n",
       "        vertical-align: top;\n",
       "    }\n",
       "\n",
       "    .dataframe thead th {\n",
       "        text-align: right;\n",
       "    }\n",
       "</style>\n",
       "<table border=\"1\" class=\"dataframe\">\n",
       "  <thead>\n",
       "    <tr style=\"text-align: right;\">\n",
       "      <th></th>\n",
       "      <th>movieId</th>\n",
       "      <th>title</th>\n",
       "      <th>genres</th>\n",
       "    </tr>\n",
       "  </thead>\n",
       "  <tbody>\n",
       "    <tr>\n",
       "      <th>0</th>\n",
       "      <td>1</td>\n",
       "      <td>Toy Story (1995)</td>\n",
       "      <td>Adventure|Animation|Children|Comedy|Fantasy</td>\n",
       "    </tr>\n",
       "    <tr>\n",
       "      <th>1</th>\n",
       "      <td>2</td>\n",
       "      <td>Jumanji (1995)</td>\n",
       "      <td>Adventure|Children|Fantasy</td>\n",
       "    </tr>\n",
       "  </tbody>\n",
       "</table>\n",
       "</div>"
      ],
      "text/plain": [
       "   movieId             title                                       genres\n",
       "0        1  Toy Story (1995)  Adventure|Animation|Children|Comedy|Fantasy\n",
       "1        2    Jumanji (1995)                   Adventure|Children|Fantasy"
      ]
     },
     "execution_count": 5,
     "metadata": {},
     "output_type": "execute_result"
    }
   ],
   "source": [
    "df_movies.head(2)"
   ]
  },
  {
   "cell_type": "code",
   "execution_count": 6,
   "id": "4db2872b",
   "metadata": {},
   "outputs": [
    {
     "data": {
      "text/html": [
       "<div>\n",
       "<style scoped>\n",
       "    .dataframe tbody tr th:only-of-type {\n",
       "        vertical-align: middle;\n",
       "    }\n",
       "\n",
       "    .dataframe tbody tr th {\n",
       "        vertical-align: top;\n",
       "    }\n",
       "\n",
       "    .dataframe thead th {\n",
       "        text-align: right;\n",
       "    }\n",
       "</style>\n",
       "<table border=\"1\" class=\"dataframe\">\n",
       "  <thead>\n",
       "    <tr style=\"text-align: right;\">\n",
       "      <th></th>\n",
       "      <th>userId</th>\n",
       "      <th>movieId</th>\n",
       "      <th>rating</th>\n",
       "      <th>timestamp</th>\n",
       "    </tr>\n",
       "  </thead>\n",
       "  <tbody>\n",
       "    <tr>\n",
       "      <th>0</th>\n",
       "      <td>1</td>\n",
       "      <td>1</td>\n",
       "      <td>4.0</td>\n",
       "      <td>964982703</td>\n",
       "    </tr>\n",
       "    <tr>\n",
       "      <th>1</th>\n",
       "      <td>1</td>\n",
       "      <td>3</td>\n",
       "      <td>4.0</td>\n",
       "      <td>964981247</td>\n",
       "    </tr>\n",
       "  </tbody>\n",
       "</table>\n",
       "</div>"
      ],
      "text/plain": [
       "   userId  movieId  rating  timestamp\n",
       "0       1        1     4.0  964982703\n",
       "1       1        3     4.0  964981247"
      ]
     },
     "execution_count": 6,
     "metadata": {},
     "output_type": "execute_result"
    }
   ],
   "source": [
    "df_ratings.head(2)"
   ]
  },
  {
   "cell_type": "markdown",
   "id": "1a82323b",
   "metadata": {},
   "source": [
    "Initially this is a baseline recommendation model so genres of each model will be removed"
   ]
  },
  {
   "cell_type": "code",
   "execution_count": 7,
   "id": "5c9fe63d",
   "metadata": {},
   "outputs": [],
   "source": [
    "del df_movies['genres']\n",
    "del df_ratings['timestamp']"
   ]
  },
  {
   "cell_type": "markdown",
   "id": "7d473687",
   "metadata": {},
   "source": [
    "Remove the movie year from dataframe and create its own column"
   ]
  },
  {
   "cell_type": "code",
   "execution_count": 8,
   "id": "e3bb01c1",
   "metadata": {},
   "outputs": [
    {
     "data": {
      "text/html": [
       "<div>\n",
       "<style scoped>\n",
       "    .dataframe tbody tr th:only-of-type {\n",
       "        vertical-align: middle;\n",
       "    }\n",
       "\n",
       "    .dataframe tbody tr th {\n",
       "        vertical-align: top;\n",
       "    }\n",
       "\n",
       "    .dataframe thead th {\n",
       "        text-align: right;\n",
       "    }\n",
       "</style>\n",
       "<table border=\"1\" class=\"dataframe\">\n",
       "  <thead>\n",
       "    <tr style=\"text-align: right;\">\n",
       "      <th></th>\n",
       "      <th>movieId</th>\n",
       "      <th>title</th>\n",
       "      <th>movie_year</th>\n",
       "    </tr>\n",
       "  </thead>\n",
       "  <tbody>\n",
       "    <tr>\n",
       "      <th>0</th>\n",
       "      <td>1</td>\n",
       "      <td>Toy Story</td>\n",
       "      <td>1995</td>\n",
       "    </tr>\n",
       "    <tr>\n",
       "      <th>1</th>\n",
       "      <td>2</td>\n",
       "      <td>Jumanji</td>\n",
       "      <td>1995</td>\n",
       "    </tr>\n",
       "  </tbody>\n",
       "</table>\n",
       "</div>"
      ],
      "text/plain": [
       "   movieId       title movie_year\n",
       "0        1  Toy Story        1995\n",
       "1        2    Jumanji        1995"
      ]
     },
     "execution_count": 8,
     "metadata": {},
     "output_type": "execute_result"
    }
   ],
   "source": [
    "df_movies['movie_year'] = df_movies['title'].str.extract(\"\\((.*)\\)\")\n",
    "df_movies['title'] = df_movies['title'].str.replace(\"\\((.*)\\)\", \"\", regex=True)\n",
    "df_movies.head(2)"
   ]
  },
  {
   "cell_type": "markdown",
   "id": "1678bf72",
   "metadata": {},
   "source": [
    "Below I make a fake user which will be used to test each of the methods. After testing this fake user will be removed."
   ]
  },
  {
   "cell_type": "code",
   "execution_count": 9,
   "id": "ba7a7995",
   "metadata": {},
   "outputs": [],
   "source": [
    "# fake input user for testing\n",
    "fake_user = [\n",
    "{'movieId':4369, 'title':'Fast and the Furious, The', 'rating':5.0},\n",
    "{'movieId':1, 'title':'Toy Story', 'rating':4.0},\n",
    "{'movieId':59315, 'title':'Iron Man', 'rating':5.0},\n",
    "{'movieId':59615, 'title':'Indiana Jones and the Kingdom of the Crystal Skull', 'rating':2.0},\n",
    "{'movieId':59131, 'title':'Are You Scared?', 'rating':1.0},\n",
    "{'movieId':59784, 'title':'Kung Fu Panda', 'rating':4.0}]\n",
    "\n",
    "df_fake_user = pd.DataFrame(fake_user)"
   ]
  },
  {
   "cell_type": "markdown",
   "id": "7514ce51",
   "metadata": {},
   "source": [
    "The method below returns a dataframe of other users that have also watched the same movies as the target user."
   ]
  },
  {
   "cell_type": "code",
   "execution_count": 10,
   "id": "7e2ba11e",
   "metadata": {},
   "outputs": [],
   "source": [
    "def get_viewers_of_target(target_user):\n",
    "    # Gets list of moives rated by target\n",
    "    target_movies = target_user['movieId'].tolist()\n",
    "    # Gets a subset of other people that have watched those movies\n",
    "    viewers = df_ratings[df_ratings['movieId'].isin(target_movies)]\n",
    "    # Create sub-dataframes for each user [makes it easier to sort based on number of similar movies seen to target]\n",
    "    viewers_sub_dataframes = viewers.groupby(['userId'])\n",
    "    viewers_sub_dataframes = sorted(viewers_sub_dataframes, key=lambda x: len(x[1]), reverse=True)\n",
    "    # Convert the sub dataframes back into a single dataframe\n",
    "    return pd.concat(map(lambda x: x[1], viewers_sub_dataframes))"
   ]
  },
  {
   "cell_type": "code",
   "execution_count": 11,
   "id": "f9ecc6c4",
   "metadata": {},
   "outputs": [
    {
     "data": {
      "text/html": [
       "<div>\n",
       "<style scoped>\n",
       "    .dataframe tbody tr th:only-of-type {\n",
       "        vertical-align: middle;\n",
       "    }\n",
       "\n",
       "    .dataframe tbody tr th {\n",
       "        vertical-align: top;\n",
       "    }\n",
       "\n",
       "    .dataframe thead th {\n",
       "        text-align: right;\n",
       "    }\n",
       "</style>\n",
       "<table border=\"1\" class=\"dataframe\">\n",
       "  <thead>\n",
       "    <tr style=\"text-align: right;\">\n",
       "      <th></th>\n",
       "      <th>userId</th>\n",
       "      <th>movieId</th>\n",
       "      <th>rating</th>\n",
       "    </tr>\n",
       "  </thead>\n",
       "  <tbody>\n",
       "    <tr>\n",
       "      <th>10360</th>\n",
       "      <td>68</td>\n",
       "      <td>1</td>\n",
       "      <td>2.5</td>\n",
       "    </tr>\n",
       "    <tr>\n",
       "      <th>10993</th>\n",
       "      <td>68</td>\n",
       "      <td>4369</td>\n",
       "      <td>3.5</td>\n",
       "    </tr>\n",
       "    <tr>\n",
       "      <th>11410</th>\n",
       "      <td>68</td>\n",
       "      <td>59315</td>\n",
       "      <td>4.5</td>\n",
       "    </tr>\n",
       "    <tr>\n",
       "      <th>11416</th>\n",
       "      <td>68</td>\n",
       "      <td>59615</td>\n",
       "      <td>1.0</td>\n",
       "    </tr>\n",
       "    <tr>\n",
       "      <th>11419</th>\n",
       "      <td>68</td>\n",
       "      <td>59784</td>\n",
       "      <td>3.5</td>\n",
       "    </tr>\n",
       "    <tr>\n",
       "      <th>36374</th>\n",
       "      <td>249</td>\n",
       "      <td>1</td>\n",
       "      <td>4.0</td>\n",
       "    </tr>\n",
       "    <tr>\n",
       "      <th>36653</th>\n",
       "      <td>249</td>\n",
       "      <td>4369</td>\n",
       "      <td>3.5</td>\n",
       "    </tr>\n",
       "    <tr>\n",
       "      <th>36955</th>\n",
       "      <td>249</td>\n",
       "      <td>59315</td>\n",
       "      <td>4.5</td>\n",
       "    </tr>\n",
       "    <tr>\n",
       "      <th>36959</th>\n",
       "      <td>249</td>\n",
       "      <td>59615</td>\n",
       "      <td>3.0</td>\n",
       "    </tr>\n",
       "    <tr>\n",
       "      <th>36960</th>\n",
       "      <td>249</td>\n",
       "      <td>59784</td>\n",
       "      <td>4.0</td>\n",
       "    </tr>\n",
       "  </tbody>\n",
       "</table>\n",
       "</div>"
      ],
      "text/plain": [
       "       userId  movieId  rating\n",
       "10360      68        1     2.5\n",
       "10993      68     4369     3.5\n",
       "11410      68    59315     4.5\n",
       "11416      68    59615     1.0\n",
       "11419      68    59784     3.5\n",
       "36374     249        1     4.0\n",
       "36653     249     4369     3.5\n",
       "36955     249    59315     4.5\n",
       "36959     249    59615     3.0\n",
       "36960     249    59784     4.0"
      ]
     },
     "execution_count": 11,
     "metadata": {},
     "output_type": "execute_result"
    }
   ],
   "source": [
    "get_viewers_of_target(df_fake_user).head(10)"
   ]
  },
  {
   "cell_type": "markdown",
   "id": "af201a56",
   "metadata": {},
   "source": [
    "Calculate the correlation between the target user and the other users."
   ]
  },
  {
   "cell_type": "code",
   "execution_count": 16,
   "id": "bf256861",
   "metadata": {},
   "outputs": [],
   "source": [
    "def user_correlation(target, other):\n",
    "    # Get list of movies IDs of the other user\n",
    "    sub_df_movies = other['movieId'].tolist()\n",
    "    # Get movies by target that have also been watched by other user and then sort\n",
    "    sorted_temp_target = target[(target['movieId'].isin(sub_df_movies))].sort_values(by=['movieId'])['rating'].tolist()\n",
    "    # Get the ratings of the movies (this list is already sorted)\n",
    "    sorted_other_user = other['rating'].tolist()\n",
    "    # Calculate Pearsons Correlation\n",
    "    with np.errstate(all='ignore'):\n",
    "        score = (np.corrcoef(sorted_temp_target, sorted_other_user)[0, 1])\n",
    "        if (np.isnan(score)):\n",
    "            return 0\n",
    "        return score\n",
    "\n",
    "def get_similar_users(target, potential_users, process_num=100):\n",
    "    # Get unique list of users IDs \n",
    "    users_list = potential_users['userId'].unique()\n",
    "    # Get similarity of each user to the target user\n",
    "    sim_users = dict([(x, user_correlation(target, potential_users[potential_users['userId'] == x])) for x in users_list[:100]])  \n",
    "    # Sort the dict based on value and return\n",
    "    return sorted(sim_users.items(), key=operator.itemgetter(1), reverse=True)\n"
   ]
  },
  {
   "cell_type": "code",
   "execution_count": 19,
   "id": "51b1c517",
   "metadata": {},
   "outputs": [],
   "source": [
    "viewers = get_viewers_of_target(df_fake_user)\n",
    "sim_users = get_similar_users(df_fake_user, viewers)"
   ]
  },
  {
   "cell_type": "code",
   "execution_count": 18,
   "id": "4214dbe2",
   "metadata": {},
   "outputs": [
    {
     "data": {
      "text/plain": [
       "[(98, 1.0),\n",
       " (393, 1.0),\n",
       " (608, 1.0),\n",
       " (139, 0.9999999999999999),\n",
       " (45, 0.9999999999999999),\n",
       " (63, 0.9999999999999999),\n",
       " (82, 0.9999999999999999),\n",
       " (239, 0.9999999999999999),\n",
       " (256, 0.9999999999999999),\n",
       " (514, 0.9999999999999999),\n",
       " (520, 0.9999999999999999),\n",
       " (522, 0.9999999999999999),\n",
       " (528, 0.9999999999999999),\n",
       " (550, 0.9999999999999999),\n",
       " (601, 0.9999999999999999),\n",
       " (489, 0.9989061072386719),\n",
       " (200, 0.9472044455566301),\n",
       " (119, 0.9449111825230678),\n",
       " (18, 0.9365858115816939),\n",
       " (307, 0.9285714285714284)]"
      ]
     },
     "execution_count": 18,
     "metadata": {},
     "output_type": "execute_result"
    }
   ],
   "source": [
    "sim_users[0:20]"
   ]
  },
  {
   "cell_type": "code",
   "execution_count": null,
   "id": "bd04de05",
   "metadata": {},
   "outputs": [],
   "source": []
  },
  {
   "cell_type": "code",
   "execution_count": null,
   "id": "b9b4ebb6",
   "metadata": {},
   "outputs": [],
   "source": []
  }
 ],
 "metadata": {
  "kernelspec": {
   "display_name": "Python 3",
   "language": "python",
   "name": "python3"
  },
  "language_info": {
   "codemirror_mode": {
    "name": "ipython",
    "version": 3
   },
   "file_extension": ".py",
   "mimetype": "text/x-python",
   "name": "python",
   "nbconvert_exporter": "python",
   "pygments_lexer": "ipython3",
   "version": "3.8.8"
  }
 },
 "nbformat": 4,
 "nbformat_minor": 5
}
