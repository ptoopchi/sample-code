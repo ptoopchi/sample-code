{
 "cells": [
  {
   "cell_type": "code",
   "execution_count": 1,
   "id": "391356be",
   "metadata": {},
   "outputs": [],
   "source": [
    "# Imports\n",
    "import pandas as pd\n",
    "import numpy as np\n",
    "import operator\n",
    "import math\n",
    "from sklearn.metrics import mean_squared_error"
   ]
  },
  {
   "cell_type": "code",
   "execution_count": 5,
   "id": "671a9a98",
   "metadata": {},
   "outputs": [],
   "source": [
    "# Importing the dataset\n",
    "df_movies = pd.read_csv('data/movies.csv')\n",
    "df_ratings = pd.read_csv('data/ratings.csv')"
   ]
  },
  {
   "cell_type": "code",
   "execution_count": 6,
   "id": "b1ea00e9",
   "metadata": {},
   "outputs": [
    {
     "data": {
      "text/html": [
       "<div>\n",
       "<style scoped>\n",
       "    .dataframe tbody tr th:only-of-type {\n",
       "        vertical-align: middle;\n",
       "    }\n",
       "\n",
       "    .dataframe tbody tr th {\n",
       "        vertical-align: top;\n",
       "    }\n",
       "\n",
       "    .dataframe thead th {\n",
       "        text-align: right;\n",
       "    }\n",
       "</style>\n",
       "<table border=\"1\" class=\"dataframe\">\n",
       "  <thead>\n",
       "    <tr style=\"text-align: right;\">\n",
       "      <th></th>\n",
       "      <th>movieId</th>\n",
       "      <th>title</th>\n",
       "      <th>genres</th>\n",
       "    </tr>\n",
       "  </thead>\n",
       "  <tbody>\n",
       "    <tr>\n",
       "      <th>0</th>\n",
       "      <td>1</td>\n",
       "      <td>Toy Story (1995)</td>\n",
       "      <td>Adventure|Animation|Children|Comedy|Fantasy</td>\n",
       "    </tr>\n",
       "    <tr>\n",
       "      <th>1</th>\n",
       "      <td>2</td>\n",
       "      <td>Jumanji (1995)</td>\n",
       "      <td>Adventure|Children|Fantasy</td>\n",
       "    </tr>\n",
       "  </tbody>\n",
       "</table>\n",
       "</div>"
      ],
      "text/plain": [
       "   movieId             title                                       genres\n",
       "0        1  Toy Story (1995)  Adventure|Animation|Children|Comedy|Fantasy\n",
       "1        2    Jumanji (1995)                   Adventure|Children|Fantasy"
      ]
     },
     "execution_count": 6,
     "metadata": {},
     "output_type": "execute_result"
    }
   ],
   "source": [
    "df_movies.head(2)"
   ]
  },
  {
   "cell_type": "code",
   "execution_count": 7,
   "id": "4db2872b",
   "metadata": {},
   "outputs": [
    {
     "data": {
      "text/html": [
       "<div>\n",
       "<style scoped>\n",
       "    .dataframe tbody tr th:only-of-type {\n",
       "        vertical-align: middle;\n",
       "    }\n",
       "\n",
       "    .dataframe tbody tr th {\n",
       "        vertical-align: top;\n",
       "    }\n",
       "\n",
       "    .dataframe thead th {\n",
       "        text-align: right;\n",
       "    }\n",
       "</style>\n",
       "<table border=\"1\" class=\"dataframe\">\n",
       "  <thead>\n",
       "    <tr style=\"text-align: right;\">\n",
       "      <th></th>\n",
       "      <th>userId</th>\n",
       "      <th>movieId</th>\n",
       "      <th>rating</th>\n",
       "      <th>timestamp</th>\n",
       "    </tr>\n",
       "  </thead>\n",
       "  <tbody>\n",
       "    <tr>\n",
       "      <th>0</th>\n",
       "      <td>1</td>\n",
       "      <td>1</td>\n",
       "      <td>4.0</td>\n",
       "      <td>964982703</td>\n",
       "    </tr>\n",
       "    <tr>\n",
       "      <th>1</th>\n",
       "      <td>1</td>\n",
       "      <td>3</td>\n",
       "      <td>4.0</td>\n",
       "      <td>964981247</td>\n",
       "    </tr>\n",
       "  </tbody>\n",
       "</table>\n",
       "</div>"
      ],
      "text/plain": [
       "   userId  movieId  rating  timestamp\n",
       "0       1        1     4.0  964982703\n",
       "1       1        3     4.0  964981247"
      ]
     },
     "execution_count": 7,
     "metadata": {},
     "output_type": "execute_result"
    }
   ],
   "source": [
    "df_ratings.head(2)"
   ]
  },
  {
   "cell_type": "markdown",
   "id": "1a82323b",
   "metadata": {},
   "source": [
    "Initially this is a baseline recommendation model so genres of each model will be removed"
   ]
  },
  {
   "cell_type": "code",
   "execution_count": 8,
   "id": "5c9fe63d",
   "metadata": {},
   "outputs": [],
   "source": [
    "del df_movies['genres']\n",
    "del df_ratings['timestamp']"
   ]
  },
  {
   "cell_type": "markdown",
   "id": "7d473687",
   "metadata": {},
   "source": [
    "Remove the movie year from dataframe and create its own column"
   ]
  },
  {
   "cell_type": "code",
   "execution_count": 9,
   "id": "e3bb01c1",
   "metadata": {},
   "outputs": [
    {
     "data": {
      "text/html": [
       "<div>\n",
       "<style scoped>\n",
       "    .dataframe tbody tr th:only-of-type {\n",
       "        vertical-align: middle;\n",
       "    }\n",
       "\n",
       "    .dataframe tbody tr th {\n",
       "        vertical-align: top;\n",
       "    }\n",
       "\n",
       "    .dataframe thead th {\n",
       "        text-align: right;\n",
       "    }\n",
       "</style>\n",
       "<table border=\"1\" class=\"dataframe\">\n",
       "  <thead>\n",
       "    <tr style=\"text-align: right;\">\n",
       "      <th></th>\n",
       "      <th>movieId</th>\n",
       "      <th>title</th>\n",
       "      <th>movie_year</th>\n",
       "    </tr>\n",
       "  </thead>\n",
       "  <tbody>\n",
       "    <tr>\n",
       "      <th>0</th>\n",
       "      <td>1</td>\n",
       "      <td>Toy Story</td>\n",
       "      <td>1995</td>\n",
       "    </tr>\n",
       "    <tr>\n",
       "      <th>1</th>\n",
       "      <td>2</td>\n",
       "      <td>Jumanji</td>\n",
       "      <td>1995</td>\n",
       "    </tr>\n",
       "  </tbody>\n",
       "</table>\n",
       "</div>"
      ],
      "text/plain": [
       "   movieId       title movie_year\n",
       "0        1  Toy Story        1995\n",
       "1        2    Jumanji        1995"
      ]
     },
     "execution_count": 9,
     "metadata": {},
     "output_type": "execute_result"
    }
   ],
   "source": [
    "df_movies['movie_year'] = df_movies['title'].str.extract(\"\\((.*)\\)\")\n",
    "df_movies['title'] = df_movies['title'].str.replace(\"\\((.*)\\)\", \"\", regex=True)\n",
    "df_movies.head(2)"
   ]
  },
  {
   "cell_type": "markdown",
   "id": "1678bf72",
   "metadata": {},
   "source": [
    "Below I make a fake user which will be used to test each of the methods. After testing this fake user will be removed."
   ]
  },
  {
   "cell_type": "code",
   "execution_count": 24,
   "id": "ba7a7995",
   "metadata": {},
   "outputs": [],
   "source": [
    "# fake input user for testing\n",
    "fake_user = [\n",
    "{'movieId':4369, 'title':'Fast and the Furious, The', 'rating':5.0},\n",
    "{'movieId':1, 'title':'Toy Story', 'rating':4.0},\n",
    "{'movieId':59315, 'title':'Iron Man', 'rating':5.0},\n",
    "{'movieId':59615, 'title':'Indiana Jones and the Kingdom of the Crystal Skull', 'rating':1.0},\n",
    "{'movieId':59131, 'title':'Are You Scared?', 'rating':0.5},\n",
    "{'movieId':59784, 'title':'Kung Fu Panda', 'rating':4.0}]\n",
    "\n",
    "df_fake_user = pd.DataFrame(fake_user)"
   ]
  },
  {
   "cell_type": "markdown",
   "id": "7514ce51",
   "metadata": {},
   "source": [
    "The method below returns a dataframe of other users that have also watched the same movies as the target user."
   ]
  },
  {
   "cell_type": "code",
   "execution_count": 11,
   "id": "7e2ba11e",
   "metadata": {},
   "outputs": [],
   "source": [
    "def get_viewers_of_target(target_user):\n",
    "    # Gets list of moives rated by target\n",
    "    target_movies = target_user['movieId'].tolist()\n",
    "    # Gets a subset of other people that have watched those movies\n",
    "    viewers = df_ratings[df_ratings['movieId'].isin(target_movies)]\n",
    "    # Create sub-dataframes for each user [makes it easier to sort based on number of similar movies seen to target]\n",
    "    viewers_sub_dataframes = viewers.groupby(['userId'])\n",
    "    viewers_sub_dataframes = sorted(viewers_sub_dataframes, key=lambda x: len(x[1]), reverse=True)\n",
    "    # Convert the sub dataframes back into a single dataframe\n",
    "    return pd.concat(map(lambda x: x[1], viewers_sub_dataframes))"
   ]
  },
  {
   "cell_type": "code",
   "execution_count": 12,
   "id": "f9ecc6c4",
   "metadata": {},
   "outputs": [
    {
     "data": {
      "text/html": [
       "<div>\n",
       "<style scoped>\n",
       "    .dataframe tbody tr th:only-of-type {\n",
       "        vertical-align: middle;\n",
       "    }\n",
       "\n",
       "    .dataframe tbody tr th {\n",
       "        vertical-align: top;\n",
       "    }\n",
       "\n",
       "    .dataframe thead th {\n",
       "        text-align: right;\n",
       "    }\n",
       "</style>\n",
       "<table border=\"1\" class=\"dataframe\">\n",
       "  <thead>\n",
       "    <tr style=\"text-align: right;\">\n",
       "      <th></th>\n",
       "      <th>userId</th>\n",
       "      <th>movieId</th>\n",
       "      <th>rating</th>\n",
       "    </tr>\n",
       "  </thead>\n",
       "  <tbody>\n",
       "    <tr>\n",
       "      <th>10360</th>\n",
       "      <td>68</td>\n",
       "      <td>1</td>\n",
       "      <td>2.5</td>\n",
       "    </tr>\n",
       "    <tr>\n",
       "      <th>10993</th>\n",
       "      <td>68</td>\n",
       "      <td>4369</td>\n",
       "      <td>3.5</td>\n",
       "    </tr>\n",
       "    <tr>\n",
       "      <th>11410</th>\n",
       "      <td>68</td>\n",
       "      <td>59315</td>\n",
       "      <td>4.5</td>\n",
       "    </tr>\n",
       "    <tr>\n",
       "      <th>11416</th>\n",
       "      <td>68</td>\n",
       "      <td>59615</td>\n",
       "      <td>1.0</td>\n",
       "    </tr>\n",
       "    <tr>\n",
       "      <th>11419</th>\n",
       "      <td>68</td>\n",
       "      <td>59784</td>\n",
       "      <td>3.5</td>\n",
       "    </tr>\n",
       "    <tr>\n",
       "      <th>36374</th>\n",
       "      <td>249</td>\n",
       "      <td>1</td>\n",
       "      <td>4.0</td>\n",
       "    </tr>\n",
       "    <tr>\n",
       "      <th>36653</th>\n",
       "      <td>249</td>\n",
       "      <td>4369</td>\n",
       "      <td>3.5</td>\n",
       "    </tr>\n",
       "    <tr>\n",
       "      <th>36955</th>\n",
       "      <td>249</td>\n",
       "      <td>59315</td>\n",
       "      <td>4.5</td>\n",
       "    </tr>\n",
       "    <tr>\n",
       "      <th>36959</th>\n",
       "      <td>249</td>\n",
       "      <td>59615</td>\n",
       "      <td>3.0</td>\n",
       "    </tr>\n",
       "    <tr>\n",
       "      <th>36960</th>\n",
       "      <td>249</td>\n",
       "      <td>59784</td>\n",
       "      <td>4.0</td>\n",
       "    </tr>\n",
       "  </tbody>\n",
       "</table>\n",
       "</div>"
      ],
      "text/plain": [
       "       userId  movieId  rating\n",
       "10360      68        1     2.5\n",
       "10993      68     4369     3.5\n",
       "11410      68    59315     4.5\n",
       "11416      68    59615     1.0\n",
       "11419      68    59784     3.5\n",
       "36374     249        1     4.0\n",
       "36653     249     4369     3.5\n",
       "36955     249    59315     4.5\n",
       "36959     249    59615     3.0\n",
       "36960     249    59784     4.0"
      ]
     },
     "execution_count": 12,
     "metadata": {},
     "output_type": "execute_result"
    }
   ],
   "source": [
    "get_viewers_of_target(df_fake_user).head(10)"
   ]
  },
  {
   "cell_type": "markdown",
   "id": "af201a56",
   "metadata": {},
   "source": [
    "Calculate the correlation between the target user and the other users."
   ]
  },
  {
   "cell_type": "code",
   "execution_count": 13,
   "id": "bf256861",
   "metadata": {},
   "outputs": [],
   "source": [
    "def user_correlation(target, other):\n",
    "    # Get list of movies IDs of the other user\n",
    "    sub_df_movies = other['movieId'].tolist()\n",
    "    # Get movies by target that have also been watched by other user and then sort\n",
    "    sorted_temp_target = target[(target['movieId'].isin(sub_df_movies))].sort_values(by=['movieId'])['rating'].tolist()\n",
    "    # Get the ratings of the movies (this list is already sorted)\n",
    "    sorted_other_user = other['rating'].tolist()\n",
    "    # Calculate Pearsons Correlation\n",
    "    with np.errstate(all='ignore'):\n",
    "        score = (np.corrcoef(sorted_temp_target, sorted_other_user)[0, 1])\n",
    "        if (np.isnan(score)):\n",
    "            return 0\n",
    "        return score\n",
    "\n",
    "def get_similar_users(target, potential_users, process_num=100):\n",
    "    # Get unique list of users IDs \n",
    "    users_list = potential_users['userId'].unique()\n",
    "    # Get similarity of each user to the target user\n",
    "    sim_users = dict([(x, user_correlation(target, potential_users[potential_users['userId'] == x])) for x in users_list[:process_num]])  \n",
    "    # Sort the dict based on value and return dataframe\n",
    "    sim_users = dict(sorted(sim_users.items(), key=operator.itemgetter(1), reverse=True))\n",
    "    return pd.DataFrame(sim_users.items(), columns=['userId', 'similarity'])\n"
   ]
  },
  {
   "cell_type": "markdown",
   "id": "f7ada950",
   "metadata": {},
   "source": [
    "Gets the users that are above a certain similarity threshold."
   ]
  },
  {
   "cell_type": "code",
   "execution_count": 14,
   "id": "36e615b4",
   "metadata": {},
   "outputs": [],
   "source": [
    "def select_best_users(user_sim_df, threshold=0.6):\n",
    "    return user_sim_df[user_sim_df['similarity'] >= threshold]"
   ]
  },
  {
   "cell_type": "markdown",
   "id": "7a16d7e7",
   "metadata": {},
   "source": [
    "Create User-Based Recommendations."
   ]
  },
  {
   "cell_type": "markdown",
   "id": "4bd052c2",
   "metadata": {},
   "source": [
    "$$R_U = \\frac{(\\sum \\limits _{u=1} ^{n} S_u * R_u)}{(\\sum \\limits _{u=1} ^{n} S_u)}$$\n",
    "where $S_u$ is the user similarity and $R_u$ is the rating\n",
    "\n",
    "Typically, the average rating is computed for each score the target user may put. However, the weighted average is used in this case, where each rating is multiplied by the similarity score.\n",
    "https://realpython.com/build-recommendation-engine-collaborative-filtering/"
   ]
  },
  {
   "cell_type": "code",
   "execution_count": 15,
   "id": "67c2499b",
   "metadata": {},
   "outputs": [],
   "source": [
    "def create_recommendations(df_ratings, sim_users):\n",
    "    # Ratings for all movies by similar users to the target user\n",
    "    sim_other_ratings = sim_users.merge(df_ratings, left_on='userId', right_on='userId')\n",
    "    # Calculate the weighted rating\n",
    "    sim_other_ratings['weighted_rating'] = sim_other_ratings['similarity'] * sim_other_ratings['rating']\n",
    "    # Group by movieId and calculate sum\n",
    "    sum_ratings = sim_other_ratings.groupby('movieId', as_index = False).sum()[['movieId', 'similarity','weighted_rating']]\n",
    "    # From the sum, calculate the final weighted rating score for each movie for target\n",
    "    sum_ratings['final_rating'] = sum_ratings['weighted_rating'] / sum_ratings['similarity']\n",
    "    # Return the table along with the movies\n",
    "    return sum_ratings.sort_values(by=['final_rating'], ascending=False)[['movieId','final_rating']]\n",
    "\n",
    "def select_K_recommendations(recommend_items, N):\n",
    "    top_k = recommend_items.head(N)\n",
    "    movie_ids = top_k['movieId'].tolist()\n",
    "    titles = [df_movies.loc[df_movies['movieId'] == x, 'title'].values[0] for x in movie_ids]\n",
    "    top_k['title'] = titles\n",
    "    return top_k\n",
    "\n",
    "def select_random_K_recommendations(recommend_items, N):\n",
    "    top_2k = select_K_recommendations(recommend_items, 2 * N)\n",
    "    return top_2k.sample(N)\n",
    "    "
   ]
  },
  {
   "cell_type": "markdown",
   "id": "15179f9a",
   "metadata": {},
   "source": [
    "Calculates the RMSE/MSE Score of the target user.\n",
    "$$ RMSE = \\sqrt{\\frac{\\sum \\limits _{i=1} ^{N} (\\hat{y_i} - y_i)^2}{N}} $$\n",
    "\n",
    "\n",
    "$$ MSE = \\frac{\\sum \\limits _{i=1} ^{N} (\\hat{y_i} - y_i)^2}{N} $$"
   ]
  },
  {
   "cell_type": "code",
   "execution_count": 34,
   "id": "caa4efef",
   "metadata": {},
   "outputs": [],
   "source": [
    "def base_score_calculate(target, sim_users):\n",
    "    # List of movies watched by target\n",
    "    movie_list = target['movieId'].tolist()\n",
    "    # Ratings of other people watched target movies\n",
    "    sim_other_ratings = sim_users.merge(df_ratings, left_on='userId', right_on='userId')\n",
    "    # Only get movies that are watched by target\n",
    "    sim_other_ratings = sim_other_ratings[sim_other_ratings['movieId'].isin(movie_list)]\n",
    "    # Calculate the weighted rating\n",
    "    sim_other_ratings['weighted_rating'] = sim_other_ratings['similarity'] * sim_other_ratings['rating']\n",
    "    # Group by movieId and calculate sum\n",
    "    sum_ratings = sim_other_ratings.groupby('movieId', as_index = False).sum()[['movieId', 'similarity','weighted_rating']]\n",
    "    # From the sum, calculate the final weighted rating score for each movie for target\n",
    "    sum_ratings['final_rating'] = sum_ratings['weighted_rating'] / sum_ratings['similarity']\n",
    "    # Get the original ratings for each movie\n",
    "    sum_ratings = sum_ratings.merge(df_fake_user[['movieId','rating']], left_on='movieId', right_on='movieId')[['movieId','final_rating','rating']]\n",
    "    return sum_ratings\n",
    "    \n",
    "def RMSE(target, sim_users):\n",
    "    sum_ratings = base_score_calculate(target, sim_users)\n",
    "    # RMSE score of actual vs predicted\n",
    "    return mean_squared_error(sum_ratings['rating'].tolist(), sum_ratings['final_rating'].tolist(), squared=False)\n",
    "\n",
    "def MSE(target, sim_users):\n",
    "    sum_ratings = base_score_calculate(target, sim_users)\n",
    "    # MSE score of actual vs predicted\n",
    "    return mean_squared_error(sum_ratings['rating'].tolist(), sum_ratings['final_rating'].tolist(), squared=True)\n",
    "    "
   ]
  },
  {
   "cell_type": "markdown",
   "id": "4785a0cb",
   "metadata": {},
   "source": [
    "Calculate the Precision and Recall of target user\n",
    "\n",
    "To compute these methods the true ratings are translated into binary form by assuming any item rated $\\geq$ 3.5 is relevant and any item < 3.5 is irrelevant. Then I compute the following equations for Precision and Recall:\n",
    "\n",
    "\n",
    "$$ Precision = \\frac{\\text{|Relevant items @k|}}{\\text{|All items @k|}} $$\n",
    "\n",
    "$$ Recall = \\frac{\\text{|Relevant items @k|}}{\\text{|Total Relevant items|}} $$"
   ]
  },
  {
   "cell_type": "code",
   "execution_count": 66,
   "id": "079541d4",
   "metadata": {},
   "outputs": [],
   "source": [
    "def Precision_Recall(target, sim_users, K):\n",
    "    sum_ratings = base_score_calculate(target, sim_users)\n",
    "    sum_ratings[sum_ratings['final_rating'] >= 3.5]['movieId']\n",
    "    # Original relevant items [>= 3.5] = relevant\n",
    "    original_relevant_items = sum_ratings[sum_ratings['rating'] >= 3.5]['movieId'].tolist()\n",
    "    # Predicted relevant items [>= 3.5] = relevant for up to value 'K'\n",
    "    temp_sum_ratings = sum_ratings.head(K)\n",
    "    predicted_relevant_items = temp_sum_ratings[temp_sum_ratings['final_rating'] >= 3.5]['movieId'].tolist()\n",
    "    # Calculate the intersection of lists\n",
    "    relevant_items = len(set(original_relevant_items) & set(predicted_relevant_items))\n",
    "    # Prescision = (relevant @k) / (all items @k)\n",
    "    prescision = (relevant_items / temp_sum_ratings.shape[0])\n",
    "    # recall = (relevant @k) / (total relevant items)\n",
    "    recall = (relevant_items / len(original_relevant_items))\n",
    "    return prescision, recall"
   ]
  },
  {
   "cell_type": "markdown",
   "id": "68a9fb2f",
   "metadata": {},
   "source": [
    "Create the training and test split for the target user."
   ]
  },
  {
   "cell_type": "code",
   "execution_count": 20,
   "id": "743b5f9d",
   "metadata": {},
   "outputs": [],
   "source": [
    "def user_train_test_split(target, testing_split=0.2):\n",
    "    train_set_size = math.floor(len(target) * (1 - testing_split))\n",
    "    df_shuffle = target.sample(frac=1)\n",
    "    return df_shuffle[:train_set_size], df_shuffle[train_set_size:]"
   ]
  },
  {
   "cell_type": "markdown",
   "id": "cffd4700",
   "metadata": {},
   "source": [
    "Test run for the \"fake\" user"
   ]
  },
  {
   "cell_type": "code",
   "execution_count": 67,
   "id": "6c0d0855",
   "metadata": {},
   "outputs": [
    {
     "name": "stdout",
     "output_type": "stream",
     "text": [
      "RMSE\n",
      "Train: 0.7418447846966625\n",
      "Test: 1.1258357102037766\n",
      "--------------------------\n",
      "MSE\n",
      "Train: 0.5503336845816376\n",
      "Test: 1.2675060463700423\n",
      "--------------------------\n",
      "Prescision\n",
      "Train: 0.6666666666666666\n",
      "Test: 0.5\n",
      "--------------------------\n",
      "Recall\n",
      "Train: 0.6666666666666666\n",
      "Test: 1.0\n"
     ]
    }
   ],
   "source": [
    "viewers = get_viewers_of_target(df_fake_user)\n",
    "sim_users = get_similar_users(df_fake_user, viewers, process_num=50)\n",
    "sim_users = select_best_users(sim_users)\n",
    "recommend_items = create_recommendations(df_ratings, sim_users)\n",
    "\n",
    "train, test = user_train_test_split(df_fake_user, 0.2)\n",
    "\n",
    "prescision_train, recall_train = Precision_Recall(train, sim_users, 3)\n",
    "prescision_test, recall_test = Precision_Recall(test, sim_users, 3)\n",
    "print('RMSE')\n",
    "print('Train:', RMSE(train, sim_users))\n",
    "print('Test:', RMSE(test, sim_users))\n",
    "print('--------------------------')\n",
    "print('MSE')\n",
    "print('Train:', MSE(train, sim_users))\n",
    "print('Test:', MSE(test, sim_users))\n",
    "print('--------------------------')\n",
    "print('Prescision')\n",
    "print('Train:', prescision_train)\n",
    "print('Test:', prescision_test)\n",
    "print('--------------------------')\n",
    "print('Recall')\n",
    "print('Train:', recall_train)\n",
    "print('Test:', recall_test)"
   ]
  },
  {
   "cell_type": "code",
   "execution_count": null,
   "id": "5a6d7209",
   "metadata": {},
   "outputs": [],
   "source": []
  },
  {
   "cell_type": "code",
   "execution_count": null,
   "id": "f8f73794",
   "metadata": {},
   "outputs": [],
   "source": []
  }
 ],
 "metadata": {
  "kernelspec": {
   "display_name": "Python 3",
   "language": "python",
   "name": "python3"
  },
  "language_info": {
   "codemirror_mode": {
    "name": "ipython",
    "version": 3
   },
   "file_extension": ".py",
   "mimetype": "text/x-python",
   "name": "python",
   "nbconvert_exporter": "python",
   "pygments_lexer": "ipython3",
   "version": "3.8.8"
  }
 },
 "nbformat": 4,
 "nbformat_minor": 5
}
